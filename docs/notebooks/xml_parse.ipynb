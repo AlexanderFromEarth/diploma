{
 "metadata": {
  "language_info": {
   "codemirror_mode": {
    "name": "ipython",
    "version": 3
   },
   "file_extension": ".py",
   "mimetype": "text/x-python",
   "name": "python",
   "nbconvert_exporter": "python",
   "pygments_lexer": "ipython3",
   "version": "3.9.5"
  },
  "orig_nbformat": 2,
  "kernelspec": {
   "name": "python395jvsc74a57bd00bca563c396375290d8fc9411db2aa037f8fa37afcc24b4e107d5517f96395d2",
   "display_name": "Python 3.9.5 64-bit ('diploma-5iax5lmd-py3.9': venv)"
  }
 },
 "nbformat": 4,
 "nbformat_minor": 2,
 "cells": [
  {
   "cell_type": "code",
   "execution_count": 1,
   "metadata": {},
   "outputs": [],
   "source": [
    "from os import getenv\n",
    "\n",
    "from dotenv import load_dotenv\n",
    "\n",
    "load_dotenv()\n",
    "ANNOTATIONS = getenv(\"ANNOTATION_DIRECTORY\")"
   ]
  },
  {
   "cell_type": "code",
   "execution_count": 2,
   "metadata": {},
   "outputs": [],
   "source": [
    "from xml.etree import ElementTree\n",
    "\n",
    "tree = ElementTree.parse(f\"{ANNOTATIONS}/AR_A_fret_0-20.xml\")\n",
    "root = tree.getroot()"
   ]
  },
  {
   "cell_type": "code",
   "execution_count": 3,
   "metadata": {},
   "outputs": [],
   "source": [
    "from core.entities import Note\n",
    "\n",
    "notes = [Note(pitch=int(event.find(\"pitch\").text), start=(start := float(event.find(\"onsetSec\").text)), duration=float(event.find(\"offsetSec\").text)-start) for event in root.iter(\"event\")]"
   ]
  },
  {
   "cell_type": "code",
   "execution_count": 4,
   "metadata": {},
   "outputs": [
    {
     "output_type": "execute_result",
     "data": {
      "text/plain": [
       "[Note(pitch=45, duration=0.6618999999999999, start=1.579, end=2.2409),\n",
       " Note(pitch=46, duration=0.7040000000000002, start=2.6026, end=3.3066),\n",
       " Note(pitch=47, duration=0.7021000000000002, start=3.6949, end=4.397),\n",
       " Note(pitch=48, duration=0.7390000000000008, start=4.7456, end=5.4846),\n",
       " Note(pitch=49, duration=0.6520999999999999, start=5.8514, end=6.5035),\n",
       " Note(pitch=50, duration=0.6534000000000004, start=6.9486, end=7.602),\n",
       " Note(pitch=51, duration=0.6856999999999998, start=7.9819, end=8.6676),\n",
       " Note(pitch=52, duration=0.7178000000000004, start=9.0266, end=9.7444),\n",
       " Note(pitch=53, duration=0.6437000000000008, start=10.0785, end=10.7222),\n",
       " Note(pitch=54, duration=0.6405999999999992, start=11.0685, end=11.7091),\n",
       " Note(pitch=55, duration=0.7167000000000012, start=12.1367, end=12.8534),\n",
       " Note(pitch=56, duration=0.6110999999999986, start=13.153, end=13.7641),\n",
       " Note(pitch=57, duration=0.6301999999999985, start=14.1674, end=14.7976),\n",
       " Note(pitch=58, duration=0.5526, start=15.2083, end=15.7609),\n",
       " Note(pitch=59, duration=0.6023999999999994, start=16.2364, end=16.8388),\n",
       " Note(pitch=60, duration=0.6150999999999982, start=17.2512, end=17.8663),\n",
       " Note(pitch=61, duration=0.5973999999999968, start=18.2692, end=18.8666),\n",
       " Note(pitch=62, duration=0.5598000000000027, start=19.3056, end=19.8654),\n",
       " Note(pitch=63, duration=0.539399999999997, start=20.2904, end=20.8298),\n",
       " Note(pitch=64, duration=0.5437000000000012, start=21.2748, end=21.8185),\n",
       " Note(pitch=65, duration=0.7380999999999993, start=22.2451, end=22.9832)]"
      ]
     },
     "metadata": {},
     "execution_count": 4
    }
   ],
   "source": [
    "notes"
   ]
  },
  {
   "cell_type": "code",
   "execution_count": null,
   "metadata": {},
   "outputs": [],
   "source": []
  }
 ]
}