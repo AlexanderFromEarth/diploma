{
 "metadata": {
  "language_info": {
   "codemirror_mode": {
    "name": "ipython",
    "version": 3
   },
   "file_extension": ".py",
   "mimetype": "text/x-python",
   "name": "python",
   "nbconvert_exporter": "python",
   "pygments_lexer": "ipython3",
   "version": "3.9.5"
  },
  "orig_nbformat": 2,
  "kernelspec": {
   "name": "python395jvsc74a57bd00bca563c396375290d8fc9411db2aa037f8fa37afcc24b4e107d5517f96395d2",
   "display_name": "Python 3.9.5 64-bit"
  }
 },
 "nbformat": 4,
 "nbformat_minor": 2,
 "cells": [
  {
   "cell_type": "code",
   "execution_count": 1,
   "metadata": {},
   "outputs": [],
   "source": [
    "from os import getenv\n",
    "\n",
    "from dotenv import load_dotenv\n",
    "\n",
    "load_dotenv()\n",
    "DATA = getenv(\"DATA_DIRECTORY\")"
   ]
  },
  {
   "cell_type": "code",
   "execution_count": 2,
   "metadata": {},
   "outputs": [],
   "source": [
    "from xml.etree import ElementTree\n",
    "\n",
    "tree = ElementTree.parse(f\"{DATA}/dataset2/annotation/AR_A_fret_0-20.xml\")\n",
    "root = tree.getroot()"
   ]
  },
  {
   "cell_type": "code",
   "execution_count": 3,
   "metadata": {},
   "outputs": [],
   "source": [
    "from core.entities import Note, Tab\n",
    "\n",
    "notes = [\n",
    "    Note(\n",
    "        pitch=int(event.find(\"pitch\").text),\n",
    "        on_time=float(event.find(\"onsetSec\").text),\n",
    "        off_time=float(event.find(\"offsetSec\").text)\n",
    "        ) \n",
    "    for event in root.iter(\"event\")\n",
    "]\n",
    "tabs = [\n",
    "    Tab(\n",
    "        fret=int(event.find(\"fretNumber\").text),\n",
    "        string=int(event.find(\"stringNumber\").text),\n",
    "        on_time=float(event.find(\"onsetSec\").text),\n",
    "        off_time=float(event.find(\"offsetSec\").text)\n",
    "    )\n",
    "    for event in root.iter(\"event\")\n",
    "]"
   ]
  },
  {
   "cell_type": "code",
   "execution_count": 4,
   "metadata": {},
   "outputs": [
    {
     "output_type": "stream",
     "name": "stdout",
     "text": [
      "([Note(on_time=1.579, off_time=2.2409, duration=0.6618999999999999, pitch=45),\n  Note(on_time=2.6026, off_time=3.3066, duration=0.7040000000000002, pitch=46),\n  Note(on_time=3.6949, off_time=4.397, duration=0.7021000000000002, pitch=47),\n  Note(on_time=4.7456, off_time=5.4846, duration=0.7390000000000008, pitch=48),\n  Note(on_time=5.8514, off_time=6.5035, duration=0.6520999999999999, pitch=49),\n  Note(on_time=6.9486, off_time=7.602, duration=0.6534000000000004, pitch=50),\n  Note(on_time=7.9819, off_time=8.6676, duration=0.6856999999999998, pitch=51),\n  Note(on_time=9.0266, off_time=9.7444, duration=0.7178000000000004, pitch=52),\n  Note(on_time=10.0785, off_time=10.7222, duration=0.6437000000000008, pitch=53),\n  Note(on_time=11.0685, off_time=11.7091, duration=0.6405999999999992, pitch=54),\n  Note(on_time=12.1367, off_time=12.8534, duration=0.7167000000000012, pitch=55),\n  Note(on_time=13.153, off_time=13.7641, duration=0.6110999999999986, pitch=56),\n  Note(on_time=14.1674, off_time=14.7976, duration=0.6301999999999985, pitch=57),\n  Note(on_time=15.2083, off_time=15.7609, duration=0.5526, pitch=58),\n  Note(on_time=16.2364, off_time=16.8388, duration=0.6023999999999994, pitch=59),\n  Note(on_time=17.2512, off_time=17.8663, duration=0.6150999999999982, pitch=60),\n  Note(on_time=18.2692, off_time=18.8666, duration=0.5973999999999968, pitch=61),\n  Note(on_time=19.3056, off_time=19.8654, duration=0.5598000000000027, pitch=62),\n  Note(on_time=20.2904, off_time=20.8298, duration=0.539399999999997, pitch=63),\n  Note(on_time=21.2748, off_time=21.8185, duration=0.5437000000000012, pitch=64),\n  Note(on_time=22.2451, off_time=22.9832, duration=0.7380999999999993, pitch=65)],\n [Tab(on_time=1.579, off_time=2.2409, duration=0.6618999999999999, fret=0, string=2),\n  Tab(on_time=2.6026, off_time=3.3066, duration=0.7040000000000002, fret=1, string=2),\n  Tab(on_time=3.6949, off_time=4.397, duration=0.7021000000000002, fret=2, string=2),\n  Tab(on_time=4.7456, off_time=5.4846, duration=0.7390000000000008, fret=3, string=2),\n  Tab(on_time=5.8514, off_time=6.5035, duration=0.6520999999999999, fret=4, string=2),\n  Tab(on_time=6.9486, off_time=7.602, duration=0.6534000000000004, fret=5, string=2),\n  Tab(on_time=7.9819, off_time=8.6676, duration=0.6856999999999998, fret=6, string=2),\n  Tab(on_time=9.0266, off_time=9.7444, duration=0.7178000000000004, fret=7, string=2),\n  Tab(on_time=10.0785, off_time=10.7222, duration=0.6437000000000008, fret=8, string=2),\n  Tab(on_time=11.0685, off_time=11.7091, duration=0.6405999999999992, fret=9, string=2),\n  Tab(on_time=12.1367, off_time=12.8534, duration=0.7167000000000012, fret=10, string=2),\n  Tab(on_time=13.153, off_time=13.7641, duration=0.6110999999999986, fret=11, string=2),\n  Tab(on_time=14.1674, off_time=14.7976, duration=0.6301999999999985, fret=12, string=2),\n  Tab(on_time=15.2083, off_time=15.7609, duration=0.5526, fret=13, string=2),\n  Tab(on_time=16.2364, off_time=16.8388, duration=0.6023999999999994, fret=14, string=2),\n  Tab(on_time=17.2512, off_time=17.8663, duration=0.6150999999999982, fret=15, string=2),\n  Tab(on_time=18.2692, off_time=18.8666, duration=0.5973999999999968, fret=16, string=2),\n  Tab(on_time=19.3056, off_time=19.8654, duration=0.5598000000000027, fret=17, string=2),\n  Tab(on_time=20.2904, off_time=20.8298, duration=0.539399999999997, fret=18, string=2),\n  Tab(on_time=21.2748, off_time=21.8185, duration=0.5437000000000012, fret=19, string=2),\n  Tab(on_time=22.2451, off_time=22.9832, duration=0.7380999999999993, fret=20, string=2)])\n"
     ]
    }
   ],
   "source": [
    "from pprint import pprint\n",
    "\n",
    "pprint((notes, tabs))"
   ]
  },
  {
   "cell_type": "code",
   "execution_count": null,
   "metadata": {},
   "outputs": [],
   "source": []
  }
 ]
}